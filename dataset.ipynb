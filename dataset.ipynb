{
 "cells": [
  {
   "cell_type": "code",
   "execution_count": 2,
   "metadata": {},
   "outputs": [],
   "source": [
    "from torch.utils.data import Dataset\n",
    "from torch.utils.data import DataLoader\n",
    "from torchvision import datasets, transforms\n",
    "import json\n",
    "import os\n",
    "import cv2\n",
    "import torch\n",
    "import numpy as np"
   ]
  },
  {
   "cell_type": "code",
   "execution_count": 2,
   "metadata": {},
   "outputs": [],
   "source": [
    "class MyDataset(Dataset):\n",
    "    def __init__(self, j, cap_url):\n",
    "        with open(j, 'r') as json_file:\n",
    "                json_data = json.load(json_file)\n",
    "        cap_url_list = []\n",
    "        for i in json_data:\n",
    "             cap_url_list.append(name)\n",
    "        target_file = os.path.basename(cap_url)\n",
    "        with open(j, 'r') as json_file:\n",
    "                json_data = json.load(json_file)\n",
    "        self.pitch_time = []\n",
    "        \n",
    "        self.pitch_list = []   \n",
    "        for item in json_data:\n",
    "            for target in name_list:\n",
    "                pitch_time = []\n",
    "                if item[\"name\"] == target:\n",
    "                    for attribute in item[\"attributes\"]:\n",
    "                        if attribute[\"key\"] == \"pitch\":\n",
    "                            pitch_time.extend(attribute[\"value\"])\n",
    "                for i in range (len(pitch_time)):\n",
    "                    self.pitch_list.append([target, pitch_time[i]])\n",
    "            \n",
    "\n",
    "\n",
    "    def __len__(self):\n",
    "        return len(self.pitch_time)\n",
    "    \n",
    "    def __getitem__(self, index):\n",
    "        data_transform = transforms.Compose([transforms.ToTensor(),\n",
    "                                            ])\n",
    "        start, end = self.pitch_time[index]\n",
    "        img_list = []\n",
    "        for j in range(start, end+1):\n",
    "            pitch_frame = cv2.imread(f'/Users/hibiyagenki/Desktop/frames/frame_{str(j).zfill(4)}.jpg')\n",
    "            img_tensor = data_transform(pitch_frame)\n",
    "            img_list.append(img_tensor)\n",
    "        return img_list"
   ]
  },
  {
   "cell_type": "code",
   "execution_count": 25,
   "metadata": {},
   "outputs": [
    {
     "name": "stdout",
     "output_type": "stream",
     "text": [
      "['4b_vsWASEDA.mp4', 'vsWASEDA3T.mp4', 'アノテーション.mp4']\n"
     ]
    }
   ],
   "source": [
    "import json\n",
    "\n",
    "# JSONファイルを読み込む\n",
    "with open('annotations.json', 'r', encoding='utf-8') as file:\n",
    "    data = json.load(file)\n",
    "\n",
    "# name フィールドの値をリストに抽出\n",
    "name_list = [item['name'] for item in data if 'name' in item]\n",
    "\n",
    "# 結果を出力\n",
    "print(name_list)\n",
    "with open(\"/Users/hibiyagenki/Downloads/Implement/annotations.json\", 'r') as json_file:\n",
    "    json_data = json.load(json_file)\n",
    "\n",
    "    pitch_list = []   \n",
    "    for item in json_data:\n",
    "        for target in name_list:\n",
    "            pitch_time = []\n",
    "            if item[\"name\"] == target:\n",
    "                for attribute in item[\"attributes\"]:\n",
    "                    if attribute[\"key\"] == \"pitch\":\n",
    "                        pitch_time.extend(attribute[\"value\"])\n",
    "            for i in range (len(pitch_time)):\n",
    "                pitch_list.append([target, pitch_time[i]])\n",
    "\n",
    "\n",
    "    # for target in name_list:\n",
    "    #     pitch_time = pitch_dict[target]\n",
    "    #     for i in range (len(pitch_time)):\n",
    "    #         pitch_list.append([target, pitch_time[i]])\n",
    "        \n",
    "        "
   ]
  },
  {
   "cell_type": "code",
   "execution_count": 27,
   "metadata": {},
   "outputs": [
    {
     "data": {
      "text/plain": [
       "[['4b_vsWASEDA.mp4', [11, 135]],\n",
       " ['4b_vsWASEDA.mp4', [352, 468]],\n",
       " ['4b_vsWASEDA.mp4', [734, 988]],\n",
       " ['4b_vsWASEDA.mp4', [2206, 2376]],\n",
       " ['4b_vsWASEDA.mp4', [3676, 3818]],\n",
       " ['4b_vsWASEDA.mp4', [4269, 4372]],\n",
       " ['4b_vsWASEDA.mp4', [4717, 4820]],\n",
       " ['4b_vsWASEDA.mp4', [5219, 5414]],\n",
       " ['4b_vsWASEDA.mp4', [6440, 6539]],\n",
       " ['4b_vsWASEDA.mp4', [6875, 7015]],\n",
       " ['vsWASEDA3T.mp4', [747, 867]],\n",
       " ['vsWASEDA3T.mp4', [1040, 1174]],\n",
       " ['vsWASEDA3T.mp4', [1355, 1521]],\n",
       " ['vsWASEDA3T.mp4', [2239, 2421]],\n",
       " ['vsWASEDA3T.mp4', [2559, 2637]],\n",
       " ['vsWASEDA3T.mp4', [3004, 3227]],\n",
       " ['vsWASEDA3T.mp4', [3823, 4103]],\n",
       " ['vsWASEDA3T.mp4', [4390, 4582]],\n",
       " ['vsWASEDA3T.mp4', [5655, 5763]],\n",
       " ['vsWASEDA3T.mp4', [6004, 6108]],\n",
       " ['vsWASEDA3T.mp4', [6356, 6498]],\n",
       " ['vsWASEDA3T.mp4', [7802, 7928]],\n",
       " ['vsWASEDA3T.mp4', [8380, 8524]],\n",
       " ['vsWASEDA3T.mp4', [8927, 9036]],\n",
       " ['vsWASEDA3T.mp4', [9408, 9539]],\n",
       " ['vsWASEDA3T.mp4', [10035, 10173]],\n",
       " ['vsWASEDA3T.mp4', [10544, 10738]],\n",
       " ['vsWASEDA3T.mp4', [11481, 11583]],\n",
       " ['vsWASEDA3T.mp4', [11888, 11994]],\n",
       " ['vsWASEDA3T.mp4', [12385, 12549]],\n",
       " ['vsWASEDA3T.mp4', [12977, 13076]],\n",
       " ['vsWASEDA3T.mp4', [13515, 13646]],\n",
       " ['vsWASEDA3T.mp4', [14020, 14144]],\n",
       " ['vsWASEDA3T.mp4', [14870, 15072]],\n",
       " ['アノテーション.mp4', [416, 484]],\n",
       " ['アノテーション.mp4', [754, 821]],\n",
       " ['アノテーション.mp4', [1262, 1399]],\n",
       " ['アノテーション.mp4', [1706, 1800]],\n",
       " ['アノテーション.mp4', [2143, 2270]],\n",
       " ['アノテーション.mp4', [2625, 2733]],\n",
       " ['アノテーション.mp4', [3668, 3823]],\n",
       " ['アノテーション.mp4', [4437, 4553]],\n",
       " ['アノテーション.mp4', [5378, 5465]],\n",
       " ['アノテーション.mp4', [6379, 6446]],\n",
       " ['アノテーション.mp4', [7667, 7858]],\n",
       " ['アノテーション.mp4', [8913, 9109]],\n",
       " ['アノテーション.mp4', [9666, 9814]],\n",
       " ['アノテーション.mp4', [10706, 10866]],\n",
       " ['アノテーション.mp4', [11428, 11593]],\n",
       " ['アノテーション.mp4', [12296, 12375]],\n",
       " ['アノテーション.mp4', [13244, 13389]],\n",
       " ['アノテーション.mp4', [14120, 14297]],\n",
       " ['アノテーション.mp4', [15060, 15187]],\n",
       " ['アノテーション.mp4', [16118, 16278]],\n",
       " ['アノテーション.mp4', [16923, 17066]],\n",
       " ['アノテーション.mp4', [18371, 18484]],\n",
       " ['アノテーション.mp4', [19322, 19504]],\n",
       " ['アノテーション.mp4', [20413, 20571]],\n",
       " ['アノテーション.mp4', [21944, 22072]]]"
      ]
     },
     "execution_count": 27,
     "metadata": {},
     "output_type": "execute_result"
    }
   ],
   "source": [
    "pitch_list"
   ]
  },
  {
   "cell_type": "code",
   "execution_count": 18,
   "metadata": {},
   "outputs": [
    {
     "data": {
      "text/plain": [
       "[[747, 867],\n",
       " [1040, 1174],\n",
       " [1355, 1521],\n",
       " [2239, 2421],\n",
       " [2559, 2637],\n",
       " [3004, 3227],\n",
       " [3823, 4103],\n",
       " [4390, 4582],\n",
       " [5655, 5763],\n",
       " [6004, 6108],\n",
       " [6356, 6498],\n",
       " [7802, 7928],\n",
       " [8380, 8524],\n",
       " [8927, 9036],\n",
       " [9408, 9539],\n",
       " [10035, 10173],\n",
       " [10544, 10738],\n",
       " [11481, 11583],\n",
       " [11888, 11994],\n",
       " [12385, 12549],\n",
       " [12977, 13076],\n",
       " [13515, 13646],\n",
       " [14020, 14144],\n",
       " [14870, 15072]]"
      ]
     },
     "execution_count": 18,
     "metadata": {},
     "output_type": "execute_result"
    }
   ],
   "source": [
    "pitch_dict[\"vsWASEDA3T.mp4\"]"
   ]
  },
  {
   "cell_type": "markdown",
   "metadata": {},
   "source": [
    "データセットで一つの動画に対してだけでなく、全ての動画に対応するように\n",
    "    jsonファイル名と動画の場所(ディレクトリ）のみを渡す\n",
    "    (clip_lengthも渡す)\n",
    "\n",
    "128フレーム全てに対して、投球中か否かを指定し0か1かで\n",
    "\n",
    "framesの\n",
    "\n"
   ]
  },
  {
   "cell_type": "code",
   "execution_count": null,
   "metadata": {},
   "outputs": [],
   "source": [
    "dataset = MyDataset(j = '/Users/hibiyagenki/Downloads/json/annotations.json',cap_url='/Users/hibiyagenki/Downloads/4b_vsWASEDA.mp4')\n",
    "dataset[0][0].size()"
   ]
  },
  {
   "cell_type": "code",
   "execution_count": 4,
   "metadata": {},
   "outputs": [],
   "source": [
    "# 学習データ用に定義\n",
    "train_dataloader = DataLoader(dataset, batch_size=3, shuffle=True)"
   ]
  },
  {
   "cell_type": "code",
   "execution_count": 5,
   "metadata": {},
   "outputs": [
    {
     "ename": "RuntimeError",
     "evalue": "each element in list of batch should be of equal size",
     "output_type": "error",
     "traceback": [
      "\u001b[0;31m---------------------------------------------------------------------------\u001b[0m",
      "\u001b[0;31mRuntimeError\u001b[0m                              Traceback (most recent call last)",
      "Cell \u001b[0;32mIn[5], line 1\u001b[0m\n\u001b[0;32m----> 1\u001b[0m \u001b[38;5;28;43;01mfor\u001b[39;49;00m\u001b[43m \u001b[49m\u001b[43mi\u001b[49m\u001b[43m,\u001b[49m\u001b[43m \u001b[49m\u001b[43mbatch\u001b[49m\u001b[43m \u001b[49m\u001b[38;5;129;43;01min\u001b[39;49;00m\u001b[43m \u001b[49m\u001b[38;5;28;43menumerate\u001b[39;49m\u001b[43m(\u001b[49m\u001b[43mtrain_dataloader\u001b[49m\u001b[43m)\u001b[49m\u001b[43m:\u001b[49m\n\u001b[1;32m      2\u001b[0m \u001b[43m    \u001b[49m\u001b[38;5;28;43mprint\u001b[39;49m\u001b[43m(\u001b[49m\u001b[43mbatch\u001b[49m\u001b[43m)\u001b[49m\n",
      "File \u001b[0;32m~/.pyenv/versions/3.12.2/lib/python3.12/site-packages/torch/utils/data/dataloader.py:631\u001b[0m, in \u001b[0;36m_BaseDataLoaderIter.__next__\u001b[0;34m(self)\u001b[0m\n\u001b[1;32m    628\u001b[0m \u001b[38;5;28;01mif\u001b[39;00m \u001b[38;5;28mself\u001b[39m\u001b[38;5;241m.\u001b[39m_sampler_iter \u001b[38;5;129;01mis\u001b[39;00m \u001b[38;5;28;01mNone\u001b[39;00m:\n\u001b[1;32m    629\u001b[0m     \u001b[38;5;66;03m# TODO(https://github.com/pytorch/pytorch/issues/76750)\u001b[39;00m\n\u001b[1;32m    630\u001b[0m     \u001b[38;5;28mself\u001b[39m\u001b[38;5;241m.\u001b[39m_reset()  \u001b[38;5;66;03m# type: ignore[call-arg]\u001b[39;00m\n\u001b[0;32m--> 631\u001b[0m data \u001b[38;5;241m=\u001b[39m \u001b[38;5;28;43mself\u001b[39;49m\u001b[38;5;241;43m.\u001b[39;49m\u001b[43m_next_data\u001b[49m\u001b[43m(\u001b[49m\u001b[43m)\u001b[49m\n\u001b[1;32m    632\u001b[0m \u001b[38;5;28mself\u001b[39m\u001b[38;5;241m.\u001b[39m_num_yielded \u001b[38;5;241m+\u001b[39m\u001b[38;5;241m=\u001b[39m \u001b[38;5;241m1\u001b[39m\n\u001b[1;32m    633\u001b[0m \u001b[38;5;28;01mif\u001b[39;00m \u001b[38;5;28mself\u001b[39m\u001b[38;5;241m.\u001b[39m_dataset_kind \u001b[38;5;241m==\u001b[39m _DatasetKind\u001b[38;5;241m.\u001b[39mIterable \u001b[38;5;129;01mand\u001b[39;00m \\\n\u001b[1;32m    634\u001b[0m         \u001b[38;5;28mself\u001b[39m\u001b[38;5;241m.\u001b[39m_IterableDataset_len_called \u001b[38;5;129;01mis\u001b[39;00m \u001b[38;5;129;01mnot\u001b[39;00m \u001b[38;5;28;01mNone\u001b[39;00m \u001b[38;5;129;01mand\u001b[39;00m \\\n\u001b[1;32m    635\u001b[0m         \u001b[38;5;28mself\u001b[39m\u001b[38;5;241m.\u001b[39m_num_yielded \u001b[38;5;241m>\u001b[39m \u001b[38;5;28mself\u001b[39m\u001b[38;5;241m.\u001b[39m_IterableDataset_len_called:\n",
      "File \u001b[0;32m~/.pyenv/versions/3.12.2/lib/python3.12/site-packages/torch/utils/data/dataloader.py:675\u001b[0m, in \u001b[0;36m_SingleProcessDataLoaderIter._next_data\u001b[0;34m(self)\u001b[0m\n\u001b[1;32m    673\u001b[0m \u001b[38;5;28;01mdef\u001b[39;00m \u001b[38;5;21m_next_data\u001b[39m(\u001b[38;5;28mself\u001b[39m):\n\u001b[1;32m    674\u001b[0m     index \u001b[38;5;241m=\u001b[39m \u001b[38;5;28mself\u001b[39m\u001b[38;5;241m.\u001b[39m_next_index()  \u001b[38;5;66;03m# may raise StopIteration\u001b[39;00m\n\u001b[0;32m--> 675\u001b[0m     data \u001b[38;5;241m=\u001b[39m \u001b[38;5;28;43mself\u001b[39;49m\u001b[38;5;241;43m.\u001b[39;49m\u001b[43m_dataset_fetcher\u001b[49m\u001b[38;5;241;43m.\u001b[39;49m\u001b[43mfetch\u001b[49m\u001b[43m(\u001b[49m\u001b[43mindex\u001b[49m\u001b[43m)\u001b[49m  \u001b[38;5;66;03m# may raise StopIteration\u001b[39;00m\n\u001b[1;32m    676\u001b[0m     \u001b[38;5;28;01mif\u001b[39;00m \u001b[38;5;28mself\u001b[39m\u001b[38;5;241m.\u001b[39m_pin_memory:\n\u001b[1;32m    677\u001b[0m         data \u001b[38;5;241m=\u001b[39m _utils\u001b[38;5;241m.\u001b[39mpin_memory\u001b[38;5;241m.\u001b[39mpin_memory(data, \u001b[38;5;28mself\u001b[39m\u001b[38;5;241m.\u001b[39m_pin_memory_device)\n",
      "File \u001b[0;32m~/.pyenv/versions/3.12.2/lib/python3.12/site-packages/torch/utils/data/_utils/fetch.py:54\u001b[0m, in \u001b[0;36m_MapDatasetFetcher.fetch\u001b[0;34m(self, possibly_batched_index)\u001b[0m\n\u001b[1;32m     52\u001b[0m \u001b[38;5;28;01melse\u001b[39;00m:\n\u001b[1;32m     53\u001b[0m     data \u001b[38;5;241m=\u001b[39m \u001b[38;5;28mself\u001b[39m\u001b[38;5;241m.\u001b[39mdataset[possibly_batched_index]\n\u001b[0;32m---> 54\u001b[0m \u001b[38;5;28;01mreturn\u001b[39;00m \u001b[38;5;28;43mself\u001b[39;49m\u001b[38;5;241;43m.\u001b[39;49m\u001b[43mcollate_fn\u001b[49m\u001b[43m(\u001b[49m\u001b[43mdata\u001b[49m\u001b[43m)\u001b[49m\n",
      "File \u001b[0;32m~/.pyenv/versions/3.12.2/lib/python3.12/site-packages/torch/utils/data/_utils/collate.py:277\u001b[0m, in \u001b[0;36mdefault_collate\u001b[0;34m(batch)\u001b[0m\n\u001b[1;32m    216\u001b[0m \u001b[38;5;28;01mdef\u001b[39;00m \u001b[38;5;21mdefault_collate\u001b[39m(batch):\n\u001b[1;32m    217\u001b[0m \u001b[38;5;250m    \u001b[39m\u001b[38;5;124mr\u001b[39m\u001b[38;5;124;03m\"\"\"\u001b[39;00m\n\u001b[1;32m    218\u001b[0m \u001b[38;5;124;03m    Take in a batch of data and put the elements within the batch into a tensor with an additional outer dimension - batch size.\u001b[39;00m\n\u001b[1;32m    219\u001b[0m \n\u001b[0;32m   (...)\u001b[0m\n\u001b[1;32m    275\u001b[0m \u001b[38;5;124;03m        >>> default_collate(batch)  # Handle `CustomType` automatically\u001b[39;00m\n\u001b[1;32m    276\u001b[0m \u001b[38;5;124;03m    \"\"\"\u001b[39;00m\n\u001b[0;32m--> 277\u001b[0m     \u001b[38;5;28;01mreturn\u001b[39;00m \u001b[43mcollate\u001b[49m\u001b[43m(\u001b[49m\u001b[43mbatch\u001b[49m\u001b[43m,\u001b[49m\u001b[43m \u001b[49m\u001b[43mcollate_fn_map\u001b[49m\u001b[38;5;241;43m=\u001b[39;49m\u001b[43mdefault_collate_fn_map\u001b[49m\u001b[43m)\u001b[49m\n",
      "File \u001b[0;32m~/.pyenv/versions/3.12.2/lib/python3.12/site-packages/torch/utils/data/_utils/collate.py:140\u001b[0m, in \u001b[0;36mcollate\u001b[0;34m(batch, collate_fn_map)\u001b[0m\n\u001b[1;32m    138\u001b[0m elem_size \u001b[38;5;241m=\u001b[39m \u001b[38;5;28mlen\u001b[39m(\u001b[38;5;28mnext\u001b[39m(it))\n\u001b[1;32m    139\u001b[0m \u001b[38;5;28;01mif\u001b[39;00m \u001b[38;5;129;01mnot\u001b[39;00m \u001b[38;5;28mall\u001b[39m(\u001b[38;5;28mlen\u001b[39m(elem) \u001b[38;5;241m==\u001b[39m elem_size \u001b[38;5;28;01mfor\u001b[39;00m elem \u001b[38;5;129;01min\u001b[39;00m it):\n\u001b[0;32m--> 140\u001b[0m     \u001b[38;5;28;01mraise\u001b[39;00m \u001b[38;5;167;01mRuntimeError\u001b[39;00m(\u001b[38;5;124m'\u001b[39m\u001b[38;5;124meach element in list of batch should be of equal size\u001b[39m\u001b[38;5;124m'\u001b[39m)\n\u001b[1;32m    141\u001b[0m transposed \u001b[38;5;241m=\u001b[39m \u001b[38;5;28mlist\u001b[39m(\u001b[38;5;28mzip\u001b[39m(\u001b[38;5;241m*\u001b[39mbatch))  \u001b[38;5;66;03m# It may be accessed twice, so we use a list.\u001b[39;00m\n\u001b[1;32m    143\u001b[0m \u001b[38;5;28;01mif\u001b[39;00m \u001b[38;5;28misinstance\u001b[39m(elem, \u001b[38;5;28mtuple\u001b[39m):\n",
      "\u001b[0;31mRuntimeError\u001b[0m: each element in list of batch should be of equal size"
     ]
    }
   ],
   "source": [
    "for i, batch in enumerate(train_dataloader):\n",
    "    print(batch)"
   ]
  },
  {
   "cell_type": "markdown",
   "metadata": {},
   "source": []
  },
  {
   "cell_type": "code",
   "execution_count": 3,
   "metadata": {},
   "outputs": [
    {
     "name": "stdout",
     "output_type": "stream",
     "text": [
      "[[11, 135], [352, 468], [734, 988], [2206, 2376], [3676, 3818], [4269, 4372], [4717, 4820], [5219, 5414], [6440, 6539], [6875, 7015]]\n"
     ]
    }
   ],
   "source": [
    "cap_url = '/Users/hibiyagenki/Downloads/4b_vsWASEDA.mp4'\n",
    "f = '/Users/hibiyagenki/Downloads/json/annotations.json'\n",
    "target_file = os.path.basename(cap_url)\n",
    "with open(f, 'r') as json_file:\n",
    "        json_data = json.load(json_file)\n",
    "pitch_time = []\n",
    "for item in json_data:\n",
    "    if item[\"name\"] == target_file:\n",
    "        for attribute in item[\"attributes\"]:\n",
    "            if attribute[\"key\"] == \"pitch\":\n",
    "                pitch_time.extend(attribute[\"value\"])\n",
    "\n",
    "print (pitch_time)\n"
   ]
  },
  {
   "cell_type": "code",
   "execution_count": 4,
   "metadata": {},
   "outputs": [
    {
     "data": {
      "text/plain": [
       "10"
      ]
     },
     "execution_count": 4,
     "metadata": {},
     "output_type": "execute_result"
    }
   ],
   "source": [
    "clip = []\n",
    "data_transform = transforms.Compose([transforms.ToTensor(),\n",
    "                                    ])\n",
    "for i in range(len(pitch_time)):\n",
    "    start, end = pitch_time[i]\n",
    "    img_list = []\n",
    "    for j in range(start, end+1):\n",
    "        pitch_frame = cv2.imread(f'/Users/hibiyagenki/Desktop/frames/frame_{str(j).zfill(4)}.jpg')\n",
    "        transposed_image = np.transpose(pitch_frame, (2, 0, 1))\n",
    "        img_tensor = data_transform(transposed_image)\n",
    "        img_list.append(img_tensor)\n",
    "    clip.append(img_list)\n",
    "len(clip)"
   ]
  },
  {
   "cell_type": "code",
   "execution_count": null,
   "metadata": {},
   "outputs": [],
   "source": [
    "for i in range(len(clip)):\n",
    "    print (len(clip[i]))"
   ]
  },
  {
   "cell_type": "code",
   "execution_count": 1,
   "metadata": {},
   "outputs": [
    {
     "name": "stdout",
     "output_type": "stream",
     "text": [
      "動画を開くことができませんでした\n"
     ]
    },
    {
     "name": "stderr",
     "output_type": "stream",
     "text": [
      "OpenCV: Couldn't read video stream from file \"/Users/hibiyagenki/Downloads/4b_vsWASEDA.mp4\"\n"
     ]
    },
    {
     "ename": "",
     "evalue": "",
     "output_type": "error",
     "traceback": [
      "\u001b[1;31m現在のセルまたは前のセルでコードを実行中に、カーネル (Kernel) がクラッシュしました。\n",
      "\u001b[1;31mエラーの原因を特定するには、セル内のコードを確認してください。\n",
      "\u001b[1;31m詳細については<a href='https://aka.ms/vscodeJupyterKernelCrash'>こちら</a>をクリックします。\n",
      "\u001b[1;31m詳細については、Jupyter <a href='command:jupyter.viewOutput'>ログ</a> を参照してください。"
     ]
    }
   ],
   "source": [
    "import cv2\n",
    "import os\n",
    "\n",
    "\n",
    "video_path = '/Users/hibiyagenki/Downloads/4b_vsWASEDA.mp4'\n",
    "output_dir = \"frames\"\n",
    "\n",
    "os.makedirs(output_dir, exist_ok=True)\n",
    "\n",
    "cap = cv2.VideoCapture(video_path)\n",
    "\n",
    "if not cap.isOpened():\n",
    "    print(\"動画を開くことができませんでした\")\n",
    "    exit()\n",
    "\n",
    "frame_count = 0\n",
    "saved_count = 0\n",
    "\n",
    "while True:\n",
    "    ret, frame = cap.read()\n",
    "    if not ret:\n",
    "        break  \n",
    "\n",
    "    filename = os.path.join(output_dir, f\"frame_{saved_count:04d}.jpg\")\n",
    "    cv2.imwrite(filename, frame)\n",
    "    saved_count += 1\n",
    "    print(f\"{filename} を保存\")\n",
    "    frame_count += 1\n",
    "\n",
    "cap.release()\n"
   ]
  },
  {
   "cell_type": "code",
   "execution_count": null,
   "metadata": {},
   "outputs": [],
   "source": []
  }
 ],
 "metadata": {
  "kernelspec": {
   "display_name": "Python 3",
   "language": "python",
   "name": "python3"
  },
  "language_info": {
   "codemirror_mode": {
    "name": "ipython",
    "version": 3
   },
   "file_extension": ".py",
   "mimetype": "text/x-python",
   "name": "python",
   "nbconvert_exporter": "python",
   "pygments_lexer": "ipython3",
   "version": "3.12.2"
  }
 },
 "nbformat": 4,
 "nbformat_minor": 2
}
