{
 "cells": [
  {
   "cell_type": "code",
   "execution_count": 2,
   "metadata": {},
   "outputs": [
    {
     "name": "stdout",
     "output_type": "stream",
     "text": [
      "動画を作成しました: /home/ubuntu/slocal/PitchDetection/data/output_video_half2.mp4\n"
     ]
    }
   ],
   "source": [
    "import cv2\n",
    "import os\n",
    "\n",
    "# 連番画像が保存されているディレクトリ\n",
    "input_frames_path = \"/home/ubuntu/slocal/PitchDetection/data/combined_frames_half2/\"\n",
    "# 出力する動画ファイルのパス\n",
    "output_video_path = \"/home/ubuntu/slocal/PitchDetection/data/output_video_half2.mp4\"\n",
    "\n",
    "# 動画のフレームレート（1秒あたりのフレーム数）\n",
    "frame_rate = 60  # 必要に応じて変更\n",
    "\n",
    "# 画像ファイル名のリストを取得してソート\n",
    "frame_files = sorted([f for f in os.listdir(input_frames_path) if f.startswith(\"combined_frame_\") and f.endswith(\".jpg\")])\n",
    "\n",
    "# 最初の画像を読み込んでフレームのサイズを取得\n",
    "first_frame = cv2.imread(os.path.join(input_frames_path, frame_files[0]))\n",
    "height, width, layers = first_frame.shape\n",
    "\n",
    "# 動画ライターオブジェクトの作成\n",
    "fourcc = cv2.VideoWriter_fourcc(*'mp4v')  # コーデックを指定（MP4形式）\n",
    "video_writer = cv2.VideoWriter(output_video_path, fourcc, frame_rate, (width, height))\n",
    "\n",
    "# 画像を1枚ずつ動画に追加\n",
    "for frame_file in frame_files:\n",
    "    frame_path = os.path.join(input_frames_path, frame_file)\n",
    "    frame = cv2.imread(frame_path)\n",
    "    video_writer.write(frame)\n",
    "\n",
    "# 動画ライターを解放\n",
    "video_writer.release()\n",
    "\n",
    "print(f\"動画を作成しました: {output_video_path}\")\n"
   ]
  },
  {
   "cell_type": "code",
   "execution_count": null,
   "metadata": {},
   "outputs": [],
   "source": []
  }
 ],
 "metadata": {
  "kernelspec": {
   "display_name": ".venv",
   "language": "python",
   "name": "python3"
  },
  "language_info": {
   "codemirror_mode": {
    "name": "ipython",
    "version": 3
   },
   "file_extension": ".py",
   "mimetype": "text/x-python",
   "name": "python",
   "nbconvert_exporter": "python",
   "pygments_lexer": "ipython3",
   "version": "3.11.4"
  }
 },
 "nbformat": 4,
 "nbformat_minor": 2
}
