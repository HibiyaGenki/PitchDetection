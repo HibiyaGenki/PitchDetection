{
 "cells": [
  {
   "cell_type": "code",
   "execution_count": 1,
   "metadata": {},
   "outputs": [],
   "source": [
    "import json"
   ]
  },
  {
   "cell_type": "code",
   "execution_count": null,
   "metadata": {},
   "outputs": [],
   "source": []
  },
  {
   "cell_type": "code",
   "execution_count": 7,
   "metadata": {},
   "outputs": [],
   "source": [
    "annot_file_path = \"/home/ubuntu/slocal/PitchDetection/json/val_ROI_annotations.json\"\n",
    "with open(annot_file_path, \"r\") as annot_file:\n",
    "            annot = json.load(annot_file)"
   ]
  },
  {
   "cell_type": "code",
   "execution_count": 8,
   "metadata": {},
   "outputs": [],
   "source": [
    "def roi(name):\n",
    "    list = []\n",
    "    for video in annot:\n",
    "        if video.get(\"name\") == name:\n",
    "            annotations = video.get(\"annotations\",[])\n",
    "            points = annotations[0].get(\"points\",{})\n",
    "            list = points[\"1\"].get(\"value\",[])\n",
    "        break\n",
    "    return list"
   ]
  },
  {
   "cell_type": "code",
   "execution_count": 11,
   "metadata": {},
   "outputs": [],
   "source": [
    "def get_all_values_from_annotations(annot_file_path):\n",
    "    with open(annot_file_path, \"r\") as annot_file:\n",
    "        annot = json.load(annot_file)\n",
    "\n",
    "    values_dict = {}\n",
    "\n",
    "    for video in annot:\n",
    "        video_name = video.get(\"name\")\n",
    "        annotations = video.get(\"annotations\", [])\n",
    "        if annotations:  # Check if annotations exist\n",
    "            points = annotations[0].get(\"points\", {})\n",
    "            first_value = points.get(\"1\", {}).get(\"value\", [])\n",
    "            values_dict[video_name] = first_value\n",
    "\n",
    "    return values_dict\n"
   ]
  },
  {
   "cell_type": "code",
   "execution_count": 12,
   "metadata": {},
   "outputs": [
    {
     "name": "stdout",
     "output_type": "stream",
     "text": [
      "{'MvsW_1.mp4': [95.03, 90.72, 595.25, 343.41], 'MvsW_2.mp4': [24.77, 101.04, 581.71, 351.79], 'MvsW_3.mp4': [26.7, 104.9, 571.4, 358.88], 'MvsW_4.mp4': [40.24, 102.32, 581.07, 335.67], 'MvsW_5.mp4': [44.75, 77.83, 574.62, 351.14], 'tachikawa_K-W_1B.mp4': [421.56, 252.12, 854.42, 699.71], 'tachikawa_K-W_1T.mp4': [205.26, 120.37, 402.51, 356.3], 'tachikawa_K-W_2B.mp4': [210.42, 126.18, 414.11, 347.28], 'tachikawa_K-W_2T.mp4': [189.14, 137.13, 379.95, 351.14], 'tachikawa_K-W_3T.mp4': [191.08, 126.18, 386.39, 351.79], 'アノテーション.mp4': [180.12, 46.24, 583.65, 345.34]}\n"
     ]
    }
   ],
   "source": [
    "values_dict = get_all_values_from_annotations(annot_file_path)\n",
    "print(values_dict)"
   ]
  },
  {
   "cell_type": "code",
   "execution_count": 9,
   "metadata": {},
   "outputs": [
    {
     "data": {
      "text/plain": [
       "[95.03, 90.72, 595.25, 343.41]"
      ]
     },
     "execution_count": 9,
     "metadata": {},
     "output_type": "execute_result"
    }
   ],
   "source": [
    "roi(\"MvsW_1.mp4\")"
   ]
  },
  {
   "cell_type": "markdown",
   "metadata": {},
   "source": [
    "jsonファイル内で検索し特定の動画名にアクセス"
   ]
  },
  {
   "cell_type": "code",
   "execution_count": null,
   "metadata": {},
   "outputs": [],
   "source": [
    "frame_path = os.path.join(\n",
    "                self.annot[video_name][\"frame_dir\"], f\"frame_{i:05d}.jpg\""
   ]
  }
 ],
 "metadata": {
  "kernelspec": {
   "display_name": ".venv",
   "language": "python",
   "name": "python3"
  },
  "language_info": {
   "codemirror_mode": {
    "name": "ipython",
    "version": 3
   },
   "file_extension": ".py",
   "mimetype": "text/x-python",
   "name": "python",
   "nbconvert_exporter": "python",
   "pygments_lexer": "ipython3",
   "version": "3.11.4"
  }
 },
 "nbformat": 4,
 "nbformat_minor": 2
}
