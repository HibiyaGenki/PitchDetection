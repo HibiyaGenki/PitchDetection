{
 "cells": [
  {
   "cell_type": "code",
   "execution_count": 19,
   "metadata": {},
   "outputs": [],
   "source": [
    "import cv2\n",
    "import numpy as np2\n",
    "# Video\n",
    "frameWidth = 800\n",
    "frameHeight = 480\n",
    "\n",
    "cap = cv2.VideoCapture('/Users/hibiyagenki/Downloads/tachikawa_K-W_1T.mp4')\n",
    "f = open('/Users/hibiyagenki/Desktop/annottation_time.txt', 'r')\n",
    "lines = f.readlines()\n",
    "pitch_time=[]\n",
    "\n",
    "for i in range(0, 6, 2):  \n",
    "    pair = (int(lines[i]), int(lines[i + 1]))\n",
    "    pitch_time.append(pair)\n",
    "    \n",
    "fps = int(cap.get(cv2.CAP_PROP_FPS))\n",
    "total_frames = int(cap.get(cv2.CAP_PROP_FRAME_COUNT))\n",
    "\n",
    "for frame_num in range(total_frames):\n",
    "    ret, img = cap.read()\n",
    "    img = cv2.resize(img, (frameWidth,frameHeight))\n",
    "    \n",
    "    for start_frame, end_frame in pitch_time:\n",
    "        if start_frame <= frame_num <= end_frame:\n",
    "            cv2.rectangle(img, \n",
    "                (300,150),\n",
    "                (420,300),\n",
    "                (0,0,255),    \n",
    "                6\n",
    "                )\n",
    "            for j, (start_frame, end_frame) in enumerate(pitch_time):\n",
    "                out = cv2.VideoWriter(\n",
    "                    f'/Users/hibiyagenki/Desktop/pitch_scene_hibiya_{j + 1}.mp4',\n",
    "                    cv2.VideoWriter_fourcc(*'mp4v'),\n",
    "                    fps,\n",
    "                    (frameWidth, frameHeight)\n",
    "                )\n",
    "                out.release()\n",
    "        if not ret:\n",
    "            break            \n",
    "    cv2.imshow('HIBIYAVideo', img)\n",
    "\n",
    "    # qを押すと止まる。\n",
    "    if cv2.waitKey(1) & 0xFF == ord('q'):\n",
    "        break"
   ]
  },
  {
   "cell_type": "code",
   "execution_count": 18,
   "metadata": {},
   "outputs": [
    {
     "data": {
      "text/plain": [
       "True"
      ]
     },
     "execution_count": 18,
     "metadata": {},
     "output_type": "execute_result"
    }
   ],
   "source": [
    "import cv2\n",
    "cap = cv2.VideoCapture('/Users/hibiyagenki/Downloads/tachikawa_K-W_1T.mp4')\n",
    "frame_cnt = int(cap.get(cv2.CAP_PROP_FRAME_COUNT))\n",
    "ret, img = cap.read()\n",
    "cap.set(cv2.CAP_PROP_POS_FRAMES, 5000)\n",
    "cv2.imwrite(\"frame500.png\", img)"
   ]
  },
  {
   "cell_type": "code",
   "execution_count": null,
   "metadata": {},
   "outputs": [],
   "source": []
  }
 ],
 "metadata": {
  "kernelspec": {
   "display_name": "Python 3",
   "language": "python",
   "name": "python3"
  },
  "language_info": {
   "codemirror_mode": {
    "name": "ipython",
    "version": 3
   },
   "file_extension": ".py",
   "mimetype": "text/x-python",
   "name": "python",
   "nbconvert_exporter": "python",
   "pygments_lexer": "ipython3",
   "version": "3.12.2"
  }
 },
 "nbformat": 4,
 "nbformat_minor": 2
}
