{
 "cells": [
  {
   "cell_type": "code",
   "execution_count": null,
   "metadata": {},
   "outputs": [],
   "source": [
    "import cv2\n",
    "import os\n",
    "import json\n",
    "import numpy as np\n",
    "import matplotlib.pyplot as plt"
   ]
  },
  {
   "cell_type": "code",
   "execution_count": null,
   "metadata": {},
   "outputs": [],
   "source": [
    "fixed_frmae_number = 128\n",
    "\n"
   ]
  },
  {
   "cell_type": "markdown",
   "metadata": {},
   "source": [
    "プロジェクトフォルダを作る\n",
    "固定長のフレーム数（ただしピッチがある程度含まれるようにする）のフレームのインデックスを生成\n",
    "2.のフレームを取得\n",
    "2.の対応するアノテーションを取得\n",
    "datasetの引数に，固定調のフレーム数とビデオの親ディレクトリのパスとアノテーションファイルのパスを指定\n",
    "ピッチが部分的に含まれているもの×ピッチ数×動画数\n",
    "10-50でランダム\n",
    "annotation.jsonを読み込んだ際に動画のnameだけのリストも作成\n",
    "固定長は128か256"
   ]
  }
 ],
 "metadata": {
  "kernelspec": {
   "display_name": "Python 3",
   "language": "python",
   "name": "python3"
  },
  "language_info": {
   "name": "python",
   "version": "3.12.2"
  }
 },
 "nbformat": 4,
 "nbformat_minor": 2
}
