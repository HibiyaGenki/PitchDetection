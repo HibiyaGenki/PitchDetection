{
 "cells": [
  {
   "cell_type": "code",
   "execution_count": 1,
   "metadata": {},
   "outputs": [],
   "source": [
    "from torch.utils.data import Dataset\n",
    "from torch.utils.data import DataLoader\n",
    "from torchvision import datasets, transforms\n",
    "import json\n",
    "import os\n",
    "import cv2\n",
    "import torch\n",
    "import numpy as np\n",
    "import random"
   ]
  },
  {
   "cell_type": "code",
   "execution_count": 43,
   "metadata": {},
   "outputs": [],
   "source": [
    "class MyDataset(Dataset):\n",
    "    def __init__(self, j):\n",
    "        # with open('annotations.json', 'r', encoding='utf-8') as file:\n",
    "        #     data = json.load(file)\n",
    "        with open(j, 'r') as json_file:\n",
    "            json_data = json.load(json_file)\n",
    "        # name フィールドの値をリストに抽出\n",
    "        name_list = [item['name'] for item in json_data if 'name' in item]\n",
    "\n",
    "        self.pitch_list = []   \n",
    "        for item in json_data:\n",
    "            for target in name_list:\n",
    "                pitch_time = []\n",
    "                if item[\"name\"] == target:\n",
    "                    for attribute in item[\"attributes\"]:\n",
    "                        if attribute[\"key\"] == \"pitch\":\n",
    "                            pitch_time.extend(attribute[\"value\"])\n",
    "                for i in range (len(pitch_time)):\n",
    "                    self.pitch_list.append([target, pitch_time[i]])\n",
    "        self.clip_length= 128\n",
    "\n",
    "\n",
    "    def __len__(self):\n",
    "        return len(self.pitch_list)\n",
    "    \n",
    "    def __getitem__(self, index):\n",
    "        data_transform = transforms.Compose([transforms.ToTensor(),\n",
    "                                            ])\n",
    "        print(self.pitch_list[index])\n",
    "        name, [pitch_start, pitch_end] = self.pitch_list[index]\n",
    "        random_number = random.randint(0, self.clip_length // 2)\n",
    "        clip_start = max(0,pitch_start - random_number)\n",
    "        clip_end = clip_start + self.clip_length\n",
    "        img_list = []\n",
    "        anno_list = []\n",
    "        for i in range(clip_start, clip_end):\n",
    "            if pitch_start <= i <= pitch_end:\n",
    "                anno_list.append(1)\n",
    "            else:\n",
    "                anno_list.append(0)\n",
    "            #print(clip_start, pitch_start, random_number)\n",
    "            #print(f'frames/frame_{str(i).zfill(4)}.jpg')\n",
    "            # clip_frame = cv2.imread(f'frames/frame_{str(i).zfill(4)}.jpg')\n",
    "            # img_tensor = data_transform(clip_frame)\n",
    "            # img_list.append(img_tensor)\n",
    "        return img_list, anno_list                    \n",
    "\n",
    "\n",
    "\n",
    "\n",
    "\n",
    "\n"
   ]
  },
  {
   "cell_type": "code",
   "execution_count": 44,
   "metadata": {},
   "outputs": [
    {
     "name": "stdout",
     "output_type": "stream",
     "text": [
      "['4b_vsWASEDA.mp4', [6440, 6539]]\n",
      "[0, 0, 0, 0, 0, 0, 0, 0, 0, 0, 0, 0, 0, 0, 0, 0, 0, 0, 0, 0, 0, 0, 0, 0, 0, 0, 0, 0, 0, 0, 0, 0, 0, 0, 0, 0, 0, 0, 0, 0, 0, 0, 0, 0, 0, 0, 0, 0, 0, 0, 0, 0, 0, 0, 0, 0, 0, 0, 0, 0, 0, 0, 0, 0, 1, 1, 1, 1, 1, 1, 1, 1, 1, 1, 1, 1, 1, 1, 1, 1, 1, 1, 1, 1, 1, 1, 1, 1, 1, 1, 1, 1, 1, 1, 1, 1, 1, 1, 1, 1, 1, 1, 1, 1, 1, 1, 1, 1, 1, 1, 1, 1, 1, 1, 1, 1, 1, 1, 1, 1, 1, 1, 1, 1, 1, 1, 1, 1]\n"
     ]
    }
   ],
   "source": [
    "my_dataset = MyDataset(\"/Users/hibiyagenki/Downloads/Implement/annotations.json\")\n",
    "img, anno = my_dataset[8]\n",
    "print(anno)\n"
   ]
  },
  {
   "cell_type": "markdown",
   "metadata": {},
   "source": [
    "プロジェクトフォルダを作る\n",
    "固定長のフレーム数（ただしピッチがある程度含まれるようにする）のフレームのインデックスを生成\n",
    "2.のフレームを取得\n",
    "2.の対応するアノテーションを取得\n",
    "datasetの引数に，固定調のフレーム数とビデオの親ディレクトリのパスとアノテーションファイルのパスを指定\n",
    "ピッチが部分的に含まれているもの×ピッチ数×動画数\n",
    "10-50でランダム\n",
    "annotation.jsonを読み込んだ際に動画のnameだけのリストも作成\n",
    "固定長は128か256"
   ]
  },
  {
   "cell_type": "markdown",
   "metadata": {},
   "source": []
  }
 ],
 "metadata": {
  "kernelspec": {
   "display_name": "Python 3",
   "language": "python",
   "name": "python3"
  },
  "language_info": {
   "codemirror_mode": {
    "name": "ipython",
    "version": 3
   },
   "file_extension": ".py",
   "mimetype": "text/x-python",
   "name": "python",
   "nbconvert_exporter": "python",
   "pygments_lexer": "ipython3",
   "version": "3.12.2"
  }
 },
 "nbformat": 4,
 "nbformat_minor": 2
}
